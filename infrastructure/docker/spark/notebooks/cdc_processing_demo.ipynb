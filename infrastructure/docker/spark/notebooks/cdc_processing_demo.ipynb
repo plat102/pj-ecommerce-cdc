{
 "cells": [
  {
   "cell_type": "markdown",
   "id": "cbad6767",
   "metadata": {},
   "source": [
    "# CDC Data Processing with Spark\n",
    "\n",
    "This notebook demonstrates how to process Change Data Capture (CDC) events using Apache Spark."
   ]
  },
  {
   "cell_type": "code",
   "execution_count": null,
   "id": "258675d8",
   "metadata": {},
   "outputs": [],
   "source": [
    "from pyspark.sql import SparkSession\n",
    "from pyspark.sql.functions import *\n",
    "from pyspark.sql.types import *\n",
    "\n",
    "# Initialize Spark Session\n",
    "spark = SparkSession.builder \\\n",
    "    .appName(\"CDC_Processing_Demo\") \\\n",
    "    .config(\"spark.sql.streaming.checkpointLocation\", \"/tmp/checkpoints\") \\\n",
    "    .getOrCreate()\n",
    "\n",
    "print(f\"Spark version: {spark.version}\")\n",
    "print(f\"Spark master: {spark.sparkContext.master}\")"
   ]
  },
  {
   "cell_type": "code",
   "execution_count": null,
   "id": "5e13066c",
   "metadata": {},
   "outputs": [],
   "source": [
    "# Test basic Spark functionality\n",
    "data = [(1, \"Alice\", 25), (2, \"Bob\", 30), (3, \"Charlie\", 35)]\n",
    "columns = [\"id\", \"name\", \"age\"]\n",
    "\n",
    "df = spark.createDataFrame(data, columns)\n",
    "df.show()"
   ]
  },
  {
   "cell_type": "code",
   "execution_count": null,
   "id": "abfc96b4",
   "metadata": {},
   "outputs": [],
   "source": [
    "# Read CDC data from Kafka (if available)\n",
    "try:\n",
    "    kafka_df = spark \\\n",
    "        .readStream \\\n",
    "        .format(\"kafka\") \\\n",
    "        .option(\"kafka.bootstrap.servers\", \"kafka1:9092\") \\\n",
    "        .option(\"subscribe\", \"ecommerce.public.customers\") \\\n",
    "        .option(\"startingOffsets\", \"latest\") \\\n",
    "        .load()\n",
    "    \n",
    "    print(\"Kafka stream created successfully!\")\n",
    "    print(kafka_df.schema)\n",
    "except Exception as e:\n",
    "    print(f\"Could not connect to Kafka: {e}\")"
   ]
  },
  {
   "cell_type": "code",
   "execution_count": null,
   "id": "70a2cbab",
   "metadata": {},
   "outputs": [],
   "source": [
    "# Sample CDC data transformation\n",
    "sample_cdc_data = [\n",
    "    ('{\"op\":\"c\",\"after\":{\"id\":1,\"name\":\"John\",\"email\":\"john@email.com\"}}', 'customer.1'),\n",
    "    ('{\"op\":\"u\",\"after\":{\"id\":1,\"name\":\"John Doe\",\"email\":\"john.doe@email.com\"}}', 'customer.1'),\n",
    "    ('{\"op\":\"d\",\"before\":{\"id\":2,\"name\":\"Jane\",\"email\":\"jane@email.com\"}}', 'customer.2')\n",
    "]\n",
    "\n",
    "cdc_df = spark.createDataFrame(sample_cdc_data, [\"value\", \"key\"])\n",
    "\n",
    "# Parse JSON and extract operation type\n",
    "parsed_df = cdc_df.select(\n",
    "    col(\"key\"),\n",
    "    get_json_object(col(\"value\"), \"$.op\").alias(\"operation\"),\n",
    "    get_json_object(col(\"value\"), \"$.after\").alias(\"after_data\"),\n",
    "    get_json_object(col(\"value\"), \"$.before\").alias(\"before_data\")\n",
    ")\n",
    "\n",
    "parsed_df.show(truncate=False)"
   ]
  },
  {
   "cell_type": "code",
   "execution_count": null,
   "id": "b82fabd6",
   "metadata": {},
   "outputs": [],
   "source": [
    "# Stop Spark session\n",
    "# spark.stop()"
   ]
  }
 ],
 "metadata": {
  "language_info": {
   "name": "python"
  }
 },
 "nbformat": 4,
 "nbformat_minor": 5
}
